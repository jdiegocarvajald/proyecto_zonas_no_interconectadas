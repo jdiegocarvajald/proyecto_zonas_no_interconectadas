{
 "cells": [
  {
   "cell_type": "markdown",
   "id": "4dbcee67",
   "metadata": {},
   "source": [
    "# Proyecto Final <br>\n",
    "# Estado de Servicios en Zonas no Interconectadas de Colombia <br>\n",
    "\n",
    "### Por: Juan Diego Carvajal D, Daniel, César"
   ]
  },
  {
   "cell_type": "markdown",
   "id": "64d38953",
   "metadata": {},
   "source": [
    "## Datos"
   ]
  },
  {
   "cell_type": "markdown",
   "id": "3b91bf54",
   "metadata": {},
   "source": [
    "La base de datos seleccionada es una base de datos que recoge variables de telemetría tomadas desde el 21 de Mayo de 2025 hasta el 27 de Mayo de 2025 en las zonas no interconectadas de Colombia en las localidades donde es posible realizar seguimiento. <br>\n",
    "\n",
    "Para realizar la visualización de los datos en Python es necesario importar las siguientes librerías:"
   ]
  },
  {
   "cell_type": "code",
   "execution_count": 1,
   "id": "66b20475",
   "metadata": {},
   "outputs": [],
   "source": [
    "import numpy as np\n",
    "import pandas as pd\n",
    "import datetime"
   ]
  },
  {
   "cell_type": "markdown",
   "id": "ea5cdb4d",
   "metadata": {},
   "source": [
    "Para una visualización inicial de los datos se transforman los datos de CSV a DataFrame"
   ]
  },
  {
   "cell_type": "code",
   "execution_count": 7,
   "id": "f332b9fb",
   "metadata": {},
   "outputs": [
    {
     "data": {
      "text/plain": [
       "(4660, 14)"
      ]
     },
     "execution_count": 7,
     "metadata": {},
     "output_type": "execute_result"
    }
   ],
   "source": [
    "energias_original = pd.read_csv('Estado_de_la_prestaci_n_del_servicio_de_energ_a_en_Zonas_No_Interconectadas_20250702.csv')\n",
    "energias_original.shape"
   ]
  },
  {
   "cell_type": "markdown",
   "id": "d94f7f8c",
   "metadata": {},
   "source": [
    "Encontrando las siguientes variables:"
   ]
  },
  {
   "cell_type": "code",
   "execution_count": null,
   "id": "ff92adcd",
   "metadata": {},
   "outputs": [
    {
     "name": "stdout",
     "output_type": "stream",
     "text": [
      "<class 'pandas.core.frame.DataFrame'>\n",
      "RangeIndex: 4660 entries, 0 to 4659\n",
      "Data columns (total 14 columns):\n",
      " #   Column                    Non-Null Count  Dtype  \n",
      "---  ------                    --------------  -----  \n",
      " 0   ID DEPATAMENTO            4660 non-null   int64  \n",
      " 1   DEPARTAMENTO              4660 non-null   object \n",
      " 2   ID MUNICIPIO              4660 non-null   int64  \n",
      " 3   MUNICIPIO                 4660 non-null   object \n",
      " 4   ID LOCALIDAD              4660 non-null   int64  \n",
      " 5   LOCALIDAD                 4660 non-null   object \n",
      " 6   AÑO SERVICIO              4660 non-null   int64  \n",
      " 7   MES SERVICIO              4660 non-null   int64  \n",
      " 8   ENERGÍA ACTIVA            4660 non-null   int64  \n",
      " 9   ENERGÍA REACTIVA          4660 non-null   float64\n",
      " 10  POTENCIA MÁXIMA           4660 non-null   float64\n",
      " 11  DÍA DE DEMANDA MÁXIMA     4659 non-null   object \n",
      " 12  FECHA DE DEMANDA MÁXIMA   4660 non-null   object \n",
      " 13  PROMEDIO DIARIO EN HORAS  4660 non-null   float64\n",
      "dtypes: float64(3), int64(6), object(5)\n",
      "memory usage: 509.8+ KB\n"
     ]
    }
   ],
   "source": [
    "energias_original.info()"
   ]
  },
  {
   "cell_type": "code",
   "execution_count": 13,
   "id": "6e32eb88",
   "metadata": {},
   "outputs": [
    {
     "name": "stdout",
     "output_type": "stream",
     "text": [
      "<class 'pandas.core.frame.DataFrame'>\n",
      "RangeIndex: 4660 entries, 0 to 4659\n",
      "Data columns (total 8 columns):\n",
      " #   Column                    Non-Null Count  Dtype         \n",
      "---  ------                    --------------  -----         \n",
      " 0   ID DEPATAMENTO            4660 non-null   int64         \n",
      " 1   ID MUNICIPIO              4660 non-null   int64         \n",
      " 2   ID LOCALIDAD              4660 non-null   int64         \n",
      " 3   ENERGÍA ACTIVA            4660 non-null   int64         \n",
      " 4   ENERGÍA REACTIVA          4660 non-null   float64       \n",
      " 5   POTENCIA MÁXIMA           4660 non-null   float64       \n",
      " 6   FECHA DE DEMANDA MÁXIMA   4660 non-null   datetime64[ns]\n",
      " 7   PROMEDIO DIARIO EN HORAS  4660 non-null   float64       \n",
      "dtypes: datetime64[ns](1), float64(3), int64(4)\n",
      "memory usage: 291.4 KB\n"
     ]
    }
   ],
   "source": [
    "energias = energias_original\n",
    "energias['FECHA DE DEMANDA MÁXIMA'] = pd.to_datetime(energias['FECHA DE DEMANDA MÁXIMA'], format='%m/%d/%Y %I:%M:%S %p')\n",
    "energias = energias.drop(columns=['AÑO SERVICIO', 'MES SERVICIO', 'DÍA DE DEMANDA MÁXIMA', 'LOCALIDAD', 'DEPARTAMENTO', 'MUNICIPIO'])\n",
    "energias.info()"
   ]
  },
  {
   "cell_type": "markdown",
   "id": "4df4440b",
   "metadata": {},
   "source": [
    "La energía activa es aquella que se transforma en trabajo útil, la energía reactiva no se consume directamente como trabajo útil, la potencia máxima es la mayor cantidad de energía respecto al tiempo que el sistema eléctrico pudo manejar, la fecha de demanda máxima es la fecha y hora que hubo mayor demanda y el promedio diario en horas son las horas que la localidad consumió energía en la fecha especificada. <br>\n",
    "\n",
    "Para iniciar con la limpieza de datos se decide consultar una nueva base de datos que brinde información sobre las localidades, para esto se usa la base de datos de la división política administrativa DIVIPOLA."
   ]
  },
  {
   "cell_type": "code",
   "execution_count": 5,
   "id": "27eb3696",
   "metadata": {},
   "outputs": [
    {
     "name": "stdout",
     "output_type": "stream",
     "text": [
      "<class 'pandas.core.frame.DataFrame'>\n",
      "RangeIndex: 8420 entries, 0 to 8419\n",
      "Data columns (total 12 columns):\n",
      " #   Column                                    Non-Null Count  Dtype  \n",
      "---  ------                                    --------------  -----  \n",
      " 0   Código Departamento                       8420 non-null   int64  \n",
      " 1   Código Municipio                          8420 non-null   int64  \n",
      " 2   Código Centro Poblado                     8420 non-null   int64  \n",
      " 3   Nombre Departamento                       8420 non-null   object \n",
      " 4   Nombre Municipio                          8420 non-null   object \n",
      " 5   Nombre Centro Poblado                     8420 non-null   object \n",
      " 6   Tipo Centro Poblado                       8420 non-null   object \n",
      " 7   Longitud                                  7664 non-null   float64\n",
      " 8   Latitud                                   7664 non-null   float64\n",
      " 9   Nombre Distrito                           494 non-null    object \n",
      " 10  Municipio/Áreas No Municipalizadas (ANM)  8420 non-null   object \n",
      " 11  Nombre Área Metropolitana                 403 non-null    object \n",
      "dtypes: float64(2), int64(3), object(7)\n",
      "memory usage: 789.5+ KB\n"
     ]
    }
   ],
   "source": [
    "divapola = pd.read_csv('Geoportal del DANE - Codificación Divipola.csv')\n",
    "divapola.info()\n"
   ]
  },
  {
   "cell_type": "markdown",
   "id": "457498a0",
   "metadata": {},
   "source": [
    "En la base de datos DIVIPOLA encontramos información sobre el departamento, el municipio y el centro poblado."
   ]
  },
  {
   "cell_type": "markdown",
   "id": "abc11bc6",
   "metadata": {},
   "source": [
    "Además, se cree pertinente incluir información sobre el Censo."
   ]
  },
  {
   "cell_type": "code",
   "execution_count": 14,
   "id": "74518f36",
   "metadata": {},
   "outputs": [
    {
     "name": "stdout",
     "output_type": "stream",
     "text": [
      "<class 'pandas.core.frame.DataFrame'>\n",
      "RangeIndex: 8558 entries, 0 to 8557\n",
      "Data columns (total 15 columns):\n",
      " #   Column                                  Non-Null Count  Dtype  \n",
      "---  ------                                  --------------  -----  \n",
      " 0   Código de departamento                  8558 non-null   object \n",
      " 1   Departamento                            8558 non-null   object \n",
      " 2   Código de municipio                     8558 non-null   int64  \n",
      " 3   Municipio                               8558 non-null   object \n",
      " 4   Clase                                   8558 non-null   object \n",
      " 5   Código de centro poblado                8558 non-null   int64  \n",
      " 6   Centro Poblado                          8558 non-null   object \n",
      " 7   Personas en NBI (%)                     8558 non-null   float64\n",
      " 8    Personas en miseria (%)                8558 non-null   float64\n",
      " 9   Componente vivienda (%)                 8558 non-null   float64\n",
      " 10  Componente Servicios (%)                8558 non-null   float64\n",
      " 11  Componente Hacinamiento (%)             8558 non-null   float64\n",
      " 12  Componente Inasistencia (%)             8558 non-null   float64\n",
      " 13  Componente dependencia económica (%)    8558 non-null   float64\n",
      " 14  Total personas en hogares particulares  8558 non-null   Int64  \n",
      "dtypes: Int64(1), float64(7), int64(2), object(5)\n",
      "memory usage: 1011.4+ KB\n"
     ]
    }
   ],
   "source": [
    "censo = pd.read_excel('CNPV-2018-NBI-CENTROS-POBLADOS.xlsx', skiprows=8)\n",
    "censo = censo.rename(columns={\n",
    "    'Unnamed: 0': 'Código de departamento',\n",
    "    'Unnamed: 1': 'Departamento',\n",
    "    'Unnamed: 2': 'Código de municipio',\n",
    "    'Unnamed: 3': 'Municipio',\n",
    "    'Unnamed: 4': 'Clase',\n",
    "    'Unnamed: 5': 'Código de centro poblado',\n",
    "    'Unnamed: 6': 'Centro Poblado',\n",
    "    'Unnamed: 14': 'Total personas en hogares particulares'\n",
    "})\n",
    "censo = censo.drop([8558, 8559])\n",
    "censo['Total personas en hogares particulares'] = censo['Total personas en hogares particulares'].astype('Int64')\n",
    "censo['Código de municipio'] = censo['Código de municipio'].astype(int)\n",
    "censo['Código de centro poblado'] = censo['Código de centro poblado'].astype(int)\n",
    "\n",
    "censo.info()"
   ]
  },
  {
   "cell_type": "markdown",
   "id": "0eee6a43",
   "metadata": {},
   "source": [
    "Estos datos son exportados a PostreSQL"
   ]
  },
  {
   "cell_type": "markdown",
   "id": "6660f41e",
   "metadata": {},
   "source": [
    "## SQL"
   ]
  },
  {
   "cell_type": "markdown",
   "id": "84616514",
   "metadata": {},
   "source": [
    "Se crean las tablas departamentos, muninicipios, centros poblados como parte del esquema DIVIPOLA; las tablas cnpv y nbi como parte del equipos Censo y, por último, las tabla de servicios energéticos como parte del esquema de Energías."
   ]
  },
  {
   "cell_type": "code",
   "execution_count": null,
   "id": "454202fd",
   "metadata": {
    "vscode": {
     "languageId": "sql"
    }
   },
   "outputs": [],
   "source": [
    "-- CREATE DATABASE energia_zonas_no_interconectadas_col;\n",
    "-- USE energia_zonas_no_interconectadas_col;\n",
    "-- SET SQL_SAFE_UPDATES = 0;\n",
    "\n",
    "CREATE TABLE divapola.tipos_centro_poblado(\n",
    "\tid_tipo_centro_poblado SERIAL PRIMARY KEY,\n",
    "    tipo_centro_poblado TEXT\n",
    ");\n",
    "\n",
    "-- Se añade \"Rural disperso\" que no está en el divapola pero sí en el censo.\n",
    "\n",
    "INSERT INTO divapola.tipos_centro_poblado (tipo_centro_poblado) VALUES \n",
    "('CABECERA MUNICIPAL'), ('CENTRO POBLADO'), ('RURAL DISPERSO');\n",
    "\n",
    "ALTER TABLE divapola.tipos_centro_poblado RENAME TO clases;\n",
    "ALTER TABLE divapola.clases RENAME COLUMN id_tipo_centro_poblado to id_clase;\n",
    "ALTER TABLE divapola.clases RENAME COLUMN tipo_centro_poblado to clase;\n",
    "\n",
    "\n",
    "CREATE TABLE divapola.tipos_municipio(\n",
    "\tid_tipo_municipio SERIAL PRIMARY KEY,\n",
    "    tipo_municipio TEXT\n",
    ");\n",
    "INSERT INTO divapola.tipos_municipio (tipo_municipio) VALUES\n",
    "('MUNICIPIO'), ('ISLA'), ('AREA NO MUNICIPALIZADA');\n",
    "\n",
    "CREATE TABLE divapola.departamentos (\n",
    "\tid_departamento SERIAL PRIMARY KEY,\n",
    "    departamento TEXT\n",
    ");\n",
    "\n",
    "CREATE TABLE divapola.distritos (\n",
    "\tid_distrito SERIAL PRIMARY KEY,\n",
    "\tdistrito TEXT\n",
    "); \n",
    "\n",
    "CREATE TABLE divapola.areas_metropolitanas (\n",
    "\tid_area_metropolitana SERIAL PRIMARY KEY,\n",
    "\tarea_metropolitana TEXT\n",
    ");\n",
    "\n",
    "CREATE TABLE divapola.municipios(\n",
    "\tid_municipio SERIAL PRIMARY KEY,\n",
    "\tmunicipio TEXT, \n",
    "\tid_departamento INT, FOREIGN KEY (id_departamento) REFERENCES divapola.departamentos(id_departamento),\n",
    "\tid_distrito INT, FOREIGN KEY (id_distrito) REFERENCES divapola.distritos (id_distrito),\n",
    "\tid_tipo_municipio INT, FOREIGN KEY (id_tipo_municipio) REFERENCES divapola.tipos_municipio (id_tipo_municipio),\n",
    "\tid_area_metropolitana INT, FOREIGN KEY (id_area_metropolitana) REFERENCES divapola.areas_metropolitanas (id_area_metropolitana)\n",
    ");\n",
    "\n",
    "\n",
    "CREATE TABLE divapola.centros_poblados(\n",
    "\tid_centro_poblado SERIAL PRIMARY KEY,\n",
    "\tcentro_poblado TEXT, \n",
    "\tid_municipio INT, FOREIGN KEY (id_municipio) REFERENCES divapola.municipios (id_municipio),\n",
    "\tlongitud DOUBLE PRECISION,\n",
    "\tlatitud DOUBLE PRECISION,\n",
    "\tid_tipo_centro_poblado INT, FOREIGN KEY (id_tipo_centro_poblado) REFERENCES divapola.tipos_centro_poblado(id_tipo_centro_poblado)\n",
    ");\n",
    "\n",
    "ALTER TABLE divapola.centros_poblados RENAME COLUMN id_tipo_centro_poblado TO id_clase;\n",
    "\n",
    "\n",
    "CREATE TABLE energias.servicios_centros_poblados(\n",
    "\tid_servicio SERIAL PRIMARY KEY,\n",
    "\tid_centro_poblado INT, FOREIGN KEY (id_centro_poblado) REFERENCES divapola.centros_poblados(id_centro_poblado),\n",
    "\tenergia_activa DOUBLE PRECISION,\n",
    "\tenergia_reactiva DOUBLE PRECISION,\n",
    "\tpotencia_maxima DOUBLE PRECISION,\n",
    "\tfecha_demanda_maxima TIMESTAMP,\n",
    "\tpromedio_diario_horas DOUBLE PRECISION\n",
    ");\n",
    "\n",
    "CREATE TABLE cnpv_nbi.cnpv_nbi(\n",
    "\tid_cnpv_nbi SERIAL PRIMARY KEY,\n",
    "\tid_centro_poblado INT, FOREIGN KEY (id_centro_poblado) REFERENCES divapola.centros_poblados(id_centro_poblado),\n",
    "\tpersonas_nbi DOUBLE PRECISION,\n",
    "\tpersonas_miseria DOUBLE PRECISION,\n",
    "\tvivienda DOUBLE PRECISION,\n",
    "\tservicios DOUBLE PRECISION,\n",
    "\thacinamiento DOUBLE PRECISION,\n",
    "\tinasistencia DOUBLE PRECISION,\n",
    "\tdependencia_economica DOUBLE PRECISION,\n",
    "\tpersonas_hogares_particulares INT\n",
    ");\n",
    "\n",
    "-- DATOS QUE ESTÁN EN LA TABLA DE ENERGÍAS PERO NO EN EL DIVAPOLA\n",
    "-- Algunos se hicieron desde la tabla y otros desde script\n",
    "\n",
    "SELECT * FROM divapola.centros_poblados where centro_poblado is null order by id_centro_poblado;\n",
    "\n",
    "UPDATE divapola.centros_poblados SET centro_poblado = 'LA CONCHA - CONCEPCIÓN NAYA' WHERE id_centro_poblado = 19418007;\n",
    "UPDATE divapola.centros_poblados SET centro_poblado = 'RIO MAYA - DOS QUEBRADAS' WHERE id_centro_poblado = 19418011;\n",
    "UPDATE divapola.centros_poblados SET centro_poblado = 'MARCIAL' WHERE id_centro_poblado = 27615912;\n",
    "UPDATE divapola.centros_poblados SET centro_poblado = 'GALVEZ ' WHERE id_centro_poblado = 76109930;\n",
    "\n",
    "SELECT * FROM energias.servicios_centros_poblados;\n",
    "\n",
    "\n",
    "-- DATOS QUE ESTÁN EN LA TABLA DE CNPV/NBI PERO NO EN EL DIVAPOLA\n",
    "\n",
    "INSERT INTO divapola.municipios (id_municipio, municipio, id_departamento) VALUES (94663, 'MAPIRIPANA', 94);\n",
    "SELECT * FROM divapola.centros_poblados;    "
   ]
  },
  {
   "cell_type": "markdown",
   "id": "5d0f072a",
   "metadata": {},
   "source": [
    "![Texto alternativo](ERD_ProyectoFinal.pgerd.png)"
   ]
  },
  {
   "cell_type": "markdown",
   "id": "bf37b27c",
   "metadata": {},
   "source": [
    "Se realiza la consulta que generará la vista para usar como base en Streamlit"
   ]
  },
  {
   "cell_type": "code",
   "execution_count": null,
   "id": "4b982088",
   "metadata": {
    "vscode": {
     "languageId": "sql"
    }
   },
   "outputs": [],
   "source": [
    "CREATE OR REPLACE VIEW energias.servicios_detalle AS\n",
    "SELECT \n",
    "\td.id_departamento AS \"Código Departamento\",\n",
    "\td.departamento AS \"Departamento\",\n",
    "\tm.id_municipio AS \"Código Municipio\",\n",
    "\tm.municipio AS \"Municipio\",\n",
    "\tc.id_centro_poblado AS \"Código Centro Poblado\",\n",
    "\tc.centro_poblado AS \"Centro Poblado\",\n",
    "\tc.latitud AS \"Latitud\",\n",
    "\tc.longitud AS \"Longitud\",\n",
    "\te.energia_activa AS \"Energía Activa [kWh]\",\n",
    "\te.energia_reactiva AS \"Energía Reactiva [kVArh]\",\n",
    "\t(e.energia_activa/NULLIF(SQRT(POWER(e.energia_activa, 2)+POWER(e.energia_reactiva,2)), 0)) AS \"Factor de Potencia\",\n",
    "\te.potencia_maxima AS \"Potencia Máxima [kW]\",\n",
    "\te.fecha_demanda_maxima AS \"Fecha Demanda Máxima\",\n",
    "\te.promedio_diario_horas AS \"Promedio Diario [h]\",\n",
    "\tn.personas_hogares_particulares AS \"Total Personas en Hogares Particulares\",\n",
    "\tn.personas_nbi AS \"Personas en NBI [%]\",\n",
    "\tn.servicios AS \"Componente Servicios [%]\"\n",
    "FROM energias.servicios_centros_poblados e\n",
    "LEFT JOIN divapola.centros_poblados c ON e.id_centro_poblado = c.id_centro_poblado\n",
    "LEFT JOIN divapola.municipios m ON c.id_municipio = m.id_municipio\n",
    "LEFT JOIN divapola.departamentos d ON m.id_departamento = d.id_departamento\n",
    "LEFT JOIN cnpv_nbi.cnpv_nbi n ON c.id_centro_poblado = n.id_centro_poblado;"
   ]
  },
  {
   "cell_type": "markdown",
   "id": "fe768398",
   "metadata": {},
   "source": [
    "## Streamlit"
   ]
  },
  {
   "cell_type": "markdown",
   "id": "e0d4a0a9",
   "metadata": {
    "vscode": {
     "languageId": "sql"
    }
   },
   "source": [
    "#### Macros"
   ]
  },
  {
   "cell_type": "code",
   "execution_count": null,
   "id": "47176cc3",
   "metadata": {},
   "outputs": [],
   "source": [
    "import streamlit as st\n",
    "from sqlalchemy import create_engine, text\n",
    "import pandas as pd\n",
    "import numpy as np\n",
    "import seaborn as sns\n",
    "import matplotlib.pyplot as plt\n",
    "import plotly.express as px\n",
    "import plotly.graph_objects as go\n",
    "from plotly.subplots import make_subplots\n",
    "import math\n",
    "from scipy.stats import gaussian_kde\n",
    "import pydeck as pdk\n",
    "from sklearn.cluster import KMeans\n",
    "from sklearn.preprocessing import StandardScaler\n",
    "from sklearn.decomposition import PCA\n",
    "from sklearn.metrics import silhouette_score"
   ]
  },
  {
   "cell_type": "markdown",
   "id": "cec2dd1f",
   "metadata": {},
   "source": []
  }
 ],
 "metadata": {
  "kernelspec": {
   "display_name": "Python 3",
   "language": "python",
   "name": "python3"
  },
  "language_info": {
   "codemirror_mode": {
    "name": "ipython",
    "version": 3
   },
   "file_extension": ".py",
   "mimetype": "text/x-python",
   "name": "python",
   "nbconvert_exporter": "python",
   "pygments_lexer": "ipython3",
   "version": "3.13.5"
  }
 },
 "nbformat": 4,
 "nbformat_minor": 5
}
