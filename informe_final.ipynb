{
 "cells": [
  {
   "cell_type": "markdown",
   "id": "4dbcee67",
   "metadata": {},
   "source": []
  }
 ],
 "metadata": {
  "language_info": {
   "name": "python"
  }
 },
 "nbformat": 4,
 "nbformat_minor": 5
}
