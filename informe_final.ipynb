{
 "cells": [
  {
   "cell_type": "markdown",
   "id": "4dbcee67",
   "metadata": {},
   "source": [
    "# Proyecto Final <br>\n",
    "# Estado de Servicios en Zonas no Interconectadas de Colombia <br>\n",
    "\n",
    "### Por: Juan Diego Carvajal D, Daniel, César"
   ]
  },
  {
   "cell_type": "markdown",
   "id": "64d38953",
   "metadata": {},
   "source": [
    "## Datos"
   ]
  },
  {
   "cell_type": "markdown",
   "id": "3b91bf54",
   "metadata": {},
   "source": [
    "La base de datos seleccionada es "
   ]
  }
 ],
 "metadata": {
  "language_info": {
   "name": "python"
  }
 },
 "nbformat": 4,
 "nbformat_minor": 5
}
